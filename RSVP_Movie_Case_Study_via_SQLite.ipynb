{
 "cells": [
  {
   "cell_type": "markdown",
   "id": "da95b9f2",
   "metadata": {},
   "source": [
    "## RSVP_Movie_Case_Study_via_SQLite"
   ]
  },
  {
   "cell_type": "code",
   "execution_count": 1,
   "id": "bc42ec22",
   "metadata": {},
   "outputs": [],
   "source": [
    "# import libraries\n",
    "import sqlite3\n",
    "import pandas as pd\n",
    "import glob\n",
    "import matplotlib.pyplot as plt\n",
    "import seaborn as sns\n",
    "%matplotlib inline"
   ]
  },
  {
   "cell_type": "code",
   "execution_count": 2,
   "id": "986a4261",
   "metadata": {},
   "outputs": [],
   "source": [
    "# Read the excel file and load specific sheets into DataFrames\n",
    "excel_file = pd.ExcelFile('IMDb+movies+Data+and+ERD+final.xlsx')"
   ]
  },
  {
   "cell_type": "code",
   "execution_count": 3,
   "id": "0d628008",
   "metadata": {},
   "outputs": [],
   "source": [
    "sheet_names = excel_file.sheet_names[1:]"
   ]
  },
  {
   "cell_type": "code",
   "execution_count": 4,
   "id": "af8a53d9",
   "metadata": {},
   "outputs": [],
   "source": [
    "# Assign name to every parse (sheets) contains in .xlsx file\n",
    "movies = excel_file.parse('movies')\n",
    "genre = excel_file.parse('genre')\n",
    "director_mapping = excel_file.parse(\"director_mapping\")\n",
    "role_mapping = excel_file.parse(\"role_mapping\")\n",
    "names = excel_file.parse(\"names\")\n",
    "ratings = excel_file.parse(\"ratings\")"
   ]
  },
  {
   "cell_type": "code",
   "execution_count": 5,
   "id": "aa8efb9e",
   "metadata": {},
   "outputs": [
    {
     "data": {
      "text/html": [
       "<div>\n",
       "<style scoped>\n",
       "    .dataframe tbody tr th:only-of-type {\n",
       "        vertical-align: middle;\n",
       "    }\n",
       "\n",
       "    .dataframe tbody tr th {\n",
       "        vertical-align: top;\n",
       "    }\n",
       "\n",
       "    .dataframe thead th {\n",
       "        text-align: right;\n",
       "    }\n",
       "</style>\n",
       "<table border=\"1\" class=\"dataframe\">\n",
       "  <thead>\n",
       "    <tr style=\"text-align: right;\">\n",
       "      <th></th>\n",
       "      <th>id</th>\n",
       "      <th>title</th>\n",
       "      <th>year</th>\n",
       "      <th>date_published</th>\n",
       "      <th>duration</th>\n",
       "      <th>country</th>\n",
       "      <th>worlwide_gross_income</th>\n",
       "      <th>languages</th>\n",
       "      <th>production_company</th>\n",
       "    </tr>\n",
       "  </thead>\n",
       "  <tbody>\n",
       "    <tr>\n",
       "      <th>0</th>\n",
       "      <td>tt0012494</td>\n",
       "      <td>Der müde Tod</td>\n",
       "      <td>2017</td>\n",
       "      <td>2017-06-09</td>\n",
       "      <td>97</td>\n",
       "      <td>Germany</td>\n",
       "      <td>$ 12156</td>\n",
       "      <td>German</td>\n",
       "      <td>Decla-Bioscop AG</td>\n",
       "    </tr>\n",
       "    <tr>\n",
       "      <th>1</th>\n",
       "      <td>tt0038733</td>\n",
       "      <td>A Matter of Life and Death</td>\n",
       "      <td>2017</td>\n",
       "      <td>2017-12-08</td>\n",
       "      <td>104</td>\n",
       "      <td>UK</td>\n",
       "      <td>$ 124241</td>\n",
       "      <td>English, French, Russian</td>\n",
       "      <td>The Archers</td>\n",
       "    </tr>\n",
       "    <tr>\n",
       "      <th>2</th>\n",
       "      <td>tt0361953</td>\n",
       "      <td>The Nest of the Cuckoo Birds</td>\n",
       "      <td>2017</td>\n",
       "      <td>2017-10-16</td>\n",
       "      <td>81</td>\n",
       "      <td>USA</td>\n",
       "      <td>NaN</td>\n",
       "      <td>English</td>\n",
       "      <td>Bert Williams Motion Pictures and Distributor</td>\n",
       "    </tr>\n",
       "    <tr>\n",
       "      <th>3</th>\n",
       "      <td>tt0235166</td>\n",
       "      <td>Against All Hope</td>\n",
       "      <td>2017</td>\n",
       "      <td>2017-10-20</td>\n",
       "      <td>90</td>\n",
       "      <td>USA</td>\n",
       "      <td>NaN</td>\n",
       "      <td>English</td>\n",
       "      <td>NaN</td>\n",
       "    </tr>\n",
       "    <tr>\n",
       "      <th>4</th>\n",
       "      <td>tt0337383</td>\n",
       "      <td>Vaikai is Amerikos viesbucio</td>\n",
       "      <td>2017</td>\n",
       "      <td>2017-03-09</td>\n",
       "      <td>88</td>\n",
       "      <td>Soviet Union</td>\n",
       "      <td>NaN</td>\n",
       "      <td>Lithuanian, Russian</td>\n",
       "      <td>Lietuvos Kinostudija</td>\n",
       "    </tr>\n",
       "  </tbody>\n",
       "</table>\n",
       "</div>"
      ],
      "text/plain": [
       "          id                         title  year date_published  duration  \\\n",
       "0  tt0012494                  Der müde Tod  2017     2017-06-09        97   \n",
       "1  tt0038733    A Matter of Life and Death  2017     2017-12-08       104   \n",
       "2  tt0361953  The Nest of the Cuckoo Birds  2017     2017-10-16        81   \n",
       "3  tt0235166              Against All Hope  2017     2017-10-20        90   \n",
       "4  tt0337383  Vaikai is Amerikos viesbucio  2017     2017-03-09        88   \n",
       "\n",
       "        country worlwide_gross_income                 languages  \\\n",
       "0       Germany               $ 12156                    German   \n",
       "1            UK              $ 124241  English, French, Russian   \n",
       "2           USA                   NaN                   English   \n",
       "3           USA                   NaN                   English   \n",
       "4  Soviet Union                   NaN       Lithuanian, Russian   \n",
       "\n",
       "                              production_company  \n",
       "0                               Decla-Bioscop AG  \n",
       "1                                    The Archers  \n",
       "2  Bert Williams Motion Pictures and Distributor  \n",
       "3                                            NaN  \n",
       "4                           Lietuvos Kinostudija  "
      ]
     },
     "execution_count": 5,
     "metadata": {},
     "output_type": "execute_result"
    }
   ],
   "source": [
    "movies.head()"
   ]
  },
  {
   "cell_type": "code",
   "execution_count": 6,
   "id": "be30713c",
   "metadata": {},
   "outputs": [],
   "source": [
    "# create a connection to the database\n",
    "conn = sqlite3.connect('example.db')"
   ]
  },
  {
   "cell_type": "code",
   "execution_count": 7,
   "id": "d95359f7",
   "metadata": {},
   "outputs": [
    {
     "data": {
      "text/plain": [
       "7997"
      ]
     },
     "execution_count": 7,
     "metadata": {},
     "output_type": "execute_result"
    }
   ],
   "source": [
    "# Save the DataFrame to SQLite tables\n",
    "movies.to_sql('movies',conn, if_exists ='replace', index = False)\n",
    "genre.to_sql('genre',conn, if_exists ='replace', index = False)\n",
    "director_mapping.to_sql('director_mapping',conn, if_exists ='replace', index = False)\n",
    "role_mapping.to_sql('role_mapping',conn, if_exists ='replace', index = False)\n",
    "names.to_sql('names',conn, if_exists ='replace', index = False)\n",
    "ratings.to_sql('ratings',conn, if_exists ='replace', index = False)"
   ]
  },
  {
   "cell_type": "code",
   "execution_count": 8,
   "id": "1d860424",
   "metadata": {},
   "outputs": [],
   "source": [
    "# create a cursor object\n",
    "cursor = conn.cursor()"
   ]
  },
  {
   "cell_type": "markdown",
   "id": "02619533",
   "metadata": {},
   "source": [
    "- Now that you have imported the data sets, let’s explore some of the tables.To begin with, it is beneficial to know the shape of the tables and whether any column has null values. Further in this segment, you will take a look at 'movies' and 'genre' tables.\n",
    "\n",
    "\n",
    "\n",
    "##### Segment 1:\n",
    "\n",
    "\n",
    "\n",
    "\n",
    "##### Q1. Find the total number of rows in each table of the schema?"
   ]
  },
  {
   "cell_type": "markdown",
   "id": "9e7273da",
   "metadata": {},
   "source": [
    "- lets count row number from names DataFrame"
   ]
  },
  {
   "cell_type": "code",
   "execution_count": 9,
   "id": "538d36e0",
   "metadata": {},
   "outputs": [
    {
     "name": "stdout",
     "output_type": "stream",
     "text": [
      "movies: 25735\n",
      "genre: 7997\n",
      "director_mapping: 14662\n",
      "role_mapping: 3867\n",
      "names: 15615\n",
      "ratings: 7997\n"
     ]
    }
   ],
   "source": [
    "# Fetch and display data using a SQL query\n",
    "cursor.execute(\"SELECT DISTINCT COUNT(id) FROM movies\")\n",
    "rows2 = cursor.fetchall()\n",
    "cursor.execute(\"SELECT DISTINCT COUNT(movie_id) FROM genre\")\n",
    "rows3 = cursor.fetchall()\n",
    "cursor.execute(\"SELECT DISTINCT COUNT(movie_id) FROM director_mapping\")\n",
    "rows4 = cursor.fetchall()\n",
    "cursor.execute(\"SELECT DISTINCT COUNT(movie_id) FROM role_mapping\")\n",
    "rows5 = cursor.fetchall()\n",
    "cursor.execute(\"SELECT DISTINCT COUNT(id) FROM names\")\n",
    "rows1 = cursor.fetchall()\n",
    "cursor.execute(\"SELECT DISTINCT COUNT(movie_id) FROM ratings\")\n",
    "rows6 = cursor.fetchall()\n",
    "\n",
    "# create a Pandas DataFrame from the fetched data\n",
    "df1 = pd.DataFrame(rows1, columns = [\"total_rows_count\"])\n",
    "df2 = pd.DataFrame(rows2, columns = [\"total_rows_count\"])\n",
    "df3 = pd.DataFrame(rows3, columns = [\"total_rows_count\"])\n",
    "df4 = pd.DataFrame(rows4, columns = [\"total_rows_count\"])\n",
    "df5 = pd.DataFrame(rows5, columns = [\"total_rows_count\"])\n",
    "df6 = pd.DataFrame(rows6, columns = [\"total_rows_count\"])\n",
    "\n",
    "df = pd.concat([df1,df2,df3,df4,df5,df6],ignore_index = True)\n",
    "# df.head()\n",
    "\n",
    "# print the sheet names and respective row counts\n",
    "for i, sheet_name in enumerate(sheet_names):\n",
    "    if i<len(df):\n",
    "        row_count =  df.loc[i,'total_rows_count']\n",
    "        print(f\"{sheet_name}: {row_count}\")\n",
    "    else:\n",
    "        print(f\"{sheet_name}: Not available\")"
   ]
  },
  {
   "cell_type": "markdown",
   "id": "6d1dad43",
   "metadata": {},
   "source": [
    "#### Q2. Which columns in the movie table have null values?"
   ]
  },
  {
   "cell_type": "code",
   "execution_count": 10,
   "id": "6e378e62",
   "metadata": {},
   "outputs": [
    {
     "data": {
      "text/html": [
       "<div>\n",
       "<style scoped>\n",
       "    .dataframe tbody tr th:only-of-type {\n",
       "        vertical-align: middle;\n",
       "    }\n",
       "\n",
       "    .dataframe tbody tr th {\n",
       "        vertical-align: top;\n",
       "    }\n",
       "\n",
       "    .dataframe thead th {\n",
       "        text-align: right;\n",
       "    }\n",
       "</style>\n",
       "<table border=\"1\" class=\"dataframe\">\n",
       "  <thead>\n",
       "    <tr style=\"text-align: right;\">\n",
       "      <th></th>\n",
       "      <th>ID</th>\n",
       "      <th>Titile</th>\n",
       "      <th>Year</th>\n",
       "      <th>Date_published</th>\n",
       "      <th>duration</th>\n",
       "      <th>country</th>\n",
       "      <th>worlwide_gross_income</th>\n",
       "      <th>languages</th>\n",
       "      <th>production_company</th>\n",
       "    </tr>\n",
       "  </thead>\n",
       "  <tbody>\n",
       "    <tr>\n",
       "      <th>0</th>\n",
       "      <td>0</td>\n",
       "      <td>0</td>\n",
       "      <td>0</td>\n",
       "      <td>0</td>\n",
       "      <td>0</td>\n",
       "      <td>20</td>\n",
       "      <td>3724</td>\n",
       "      <td>194</td>\n",
       "      <td>528</td>\n",
       "    </tr>\n",
       "  </tbody>\n",
       "</table>\n",
       "</div>"
      ],
      "text/plain": [
       "   ID  Titile  Year  Date_published  duration  country  worlwide_gross_income  \\\n",
       "0   0       0     0               0         0       20                   3724   \n",
       "\n",
       "   languages  production_company  \n",
       "0        194                 528  "
      ]
     },
     "execution_count": 10,
     "metadata": {},
     "output_type": "execute_result"
    }
   ],
   "source": [
    "cursor.execute('''SELECT Sum(CASE\n",
    "             WHEN id IS NULL THEN 1\n",
    "             ELSE 0\n",
    "           END) AS ID_NULL_COUNT,\n",
    "       Sum(CASE\n",
    "             WHEN title IS NULL THEN 1\n",
    "             ELSE 0\n",
    "           END) AS title_NULL_COUNT,\n",
    "       Sum(CASE\n",
    "             WHEN year IS NULL THEN 1\n",
    "             ELSE 0\n",
    "           END) AS year_NULL_COUNT,\n",
    "       Sum(CASE\n",
    "             WHEN date_published IS NULL THEN 1\n",
    "             ELSE 0\n",
    "           END) AS date_published_NULL_COUNT,\n",
    "       Sum(CASE\n",
    "             WHEN duration IS NULL THEN 1\n",
    "             ELSE 0\n",
    "           END) AS duration_NULL_COUNT,\n",
    "       Sum(CASE\n",
    "             WHEN country IS NULL THEN 1\n",
    "             ELSE 0\n",
    "           END) AS country_NULL_COUNT,\n",
    "       Sum(CASE\n",
    "             WHEN worlwide_gross_income IS NULL THEN 1\n",
    "             ELSE 0\n",
    "           END) AS worlwide_gross_income_NULL_COUNT,\n",
    "       Sum(CASE\n",
    "             WHEN languages IS NULL THEN 1\n",
    "             ELSE 0\n",
    "           END) AS languages_NULL_COUNT,\n",
    "       Sum(CASE\n",
    "             WHEN production_company IS NULL THEN 1\n",
    "             ELSE 0\n",
    "           END) AS production_company_NULL_COUNT\n",
    "FROM   movies''')\n",
    "rows = cursor.fetchall()\n",
    "\n",
    "# create a Pandas DataFrame from the fetched data\n",
    "df = pd.DataFrame(rows, columns=['ID','Titile','Year','Date_published','duration','country','worlwide_gross_income','languages','production_company'])\n",
    "\n",
    "# Display the DataFrame\n",
    "df.head()"
   ]
  },
  {
   "cell_type": "markdown",
   "id": "e3753956",
   "metadata": {},
   "source": [
    "- Now as you can see four columns of the movie table has null values. Let's look at the at the movies released each year. \n"
   ]
  },
  {
   "cell_type": "markdown",
   "id": "2d7a8f00",
   "metadata": {},
   "source": [
    "#### Q3. Find the total number of movies released each year? How does the trend look month wise? (Output expected)"
   ]
  },
  {
   "cell_type": "code",
   "execution_count": 11,
   "id": "c45658f8",
   "metadata": {},
   "outputs": [
    {
     "data": {
      "image/png": "[encoded data removed]",
      "text/plain": [
       "<Figure size 640x480 with 1 Axes>"
      ]
     },
     "metadata": {},
     "output_type": "display_data"
    }
   ],
   "source": [
    "cursor.execute('''SELECT year, COUNT(title) FROM movies  GROUP BY year''')\n",
    "rows = cursor.fetchall()\n",
    "\n",
    "# create a Pandas DataFrame from the fetched data\n",
    "df = pd.DataFrame(rows, columns=['Year', 'number_of_movies'])\n",
    "\n",
    "ax = sns.barplot(x=df['Year'],y =df['number_of_movies'],data=df,palette ='viridis',saturation=0.95)\n",
    "\n",
    "# loop the barplot\n",
    "for p in ax.patches:\n",
    "    height = p.get_height()\n",
    "    width = p.get_width()\n",
    "    x,y = p.get_xy()\n",
    "    \n",
    "    # Add the count label on top of each bar\n",
    "    ax.text(x+width /2, y+height,height, ha ='center')\n",
    "\n",
    "# Show the plot\n",
    "plt.show()"
   ]
  },
  {
   "cell_type": "code",
   "execution_count": 35,
   "id": "fa9d9ad1",
   "metadata": {},
   "outputs": [
    {
     "data": {
      "image/png": "[encoded data removed]",
      "text/plain": [
       "<Figure size 640x480 with 1 Axes>"
      ]
     },
     "metadata": {},
     "output_type": "display_data"
    }
   ],
   "source": [
    "cursor.execute('''SELECT DISTINCT SUBSTRING(date_published,6,2),COUNT(*)\n",
    "                  FROM movies\n",
    "                  GROUP BY SUBSTRING(date_published,6,2)\n",
    "                  ORDER BY date_published\n",
    "                  DESC''')\n",
    "rows = cursor.fetchall()\n",
    "\n",
    "# create a Pandas DataFrame from the fetched data\n",
    "df = pd.DataFrame(rows, columns=['Months','Number_Of_Movies'])\n",
    "\n",
    "ax = sns.barplot(x=df['Months'],y =df['Number_Of_Movies'],data=df,palette ='viridis',saturation=0.95)\n",
    "\n",
    "# loop the barplot\n",
    "for p in ax.patches:\n",
    "    height = p.get_height()\n",
    "    width = p.get_width()\n",
    "    x,y = p.get_xy()\n",
    "    \n",
    "    # Add the count label on top of each bar\n",
    "    ax.text(x+width /2, y+height,height, ha ='center')\n",
    "\n",
    "# Show the plot\n",
    "plt.show()\n",
    "# df.head(20)"
   ]
  },
  {
   "cell_type": "markdown",
   "id": "4217281e",
   "metadata": {},
   "source": [
    "#### Q4. How many movies were produced in the USA or India in the year 2019??"
   ]
  },
  {
   "cell_type": "code",
   "execution_count": 54,
   "id": "6937cd82",
   "metadata": {},
   "outputs": [
    {
     "data": {
      "image/png": "[encoded data removed]",
      "text/plain": [
       "<Figure size 640x480 with 1 Axes>"
      ]
     },
     "metadata": {},
     "output_type": "display_data"
    }
   ],
   "source": [
    "cursor.execute('''SELECT DISTINCT year,COUNT(*)\n",
    "                  FROM movies\n",
    "                  WHERE country LIKE 'USA' OR country LIKE 'India'\n",
    "                  GROUP BY year\n",
    "                  ORDER BY year\n",
    "                  ''')\n",
    "rows = cursor.fetchall()\n",
    "\n",
    "# create a Pandas DataFrame from the fetched data\n",
    "df = pd.DataFrame(rows, columns=['Year','Number_Of_Movies'])\n",
    "\n",
    "ax = sns.barplot(x=df['Year'],y =df['Number_Of_Movies'],data=df,palette ='viridis',saturation=0.95)\n",
    "\n",
    "# loop the barplot\n",
    "for p in ax.patches:\n",
    "    height = p.get_height()\n",
    "    width = p.get_width()\n",
    "    x,y = p.get_xy()\n",
    "    \n",
    "    # Add the count label on top of each bar\n",
    "    ax.text(x+width /2, y+height,height, ha ='center')\n",
    "\n",
    "# Show the plot\n",
    "plt.show()\n",
    "# df.head(20)"
   ]
  },
  {
   "cell_type": "code",
   "execution_count": 65,
   "id": "69d90803",
   "metadata": {},
   "outputs": [
    {
     "data": {
      "text/html": [
       "<div>\n",
       "<style scoped>\n",
       "    .dataframe tbody tr th:only-of-type {\n",
       "        vertical-align: middle;\n",
       "    }\n",
       "\n",
       "    .dataframe tbody tr th {\n",
       "        vertical-align: top;\n",
       "    }\n",
       "\n",
       "    .dataframe thead th {\n",
       "        text-align: right;\n",
       "    }\n",
       "</style>\n",
       "<table border=\"1\" class=\"dataframe\">\n",
       "  <thead>\n",
       "    <tr style=\"text-align: right;\">\n",
       "      <th></th>\n",
       "      <th>movie_id</th>\n",
       "      <th>genre</th>\n",
       "    </tr>\n",
       "  </thead>\n",
       "  <tbody>\n",
       "    <tr>\n",
       "      <th>0</th>\n",
       "      <td>tt0012494</td>\n",
       "      <td>Thriller</td>\n",
       "    </tr>\n",
       "    <tr>\n",
       "      <th>1</th>\n",
       "      <td>tt0012494</td>\n",
       "      <td>Fantasy</td>\n",
       "    </tr>\n",
       "    <tr>\n",
       "      <th>2</th>\n",
       "      <td>tt0012494</td>\n",
       "      <td>Drama</td>\n",
       "    </tr>\n",
       "    <tr>\n",
       "      <th>3</th>\n",
       "      <td>tt0038733</td>\n",
       "      <td>Fantasy</td>\n",
       "    </tr>\n",
       "    <tr>\n",
       "      <th>4</th>\n",
       "      <td>tt0038733</td>\n",
       "      <td>Drama</td>\n",
       "    </tr>\n",
       "  </tbody>\n",
       "</table>\n",
       "</div>"
      ],
      "text/plain": [
       "    movie_id     genre\n",
       "0  tt0012494  Thriller\n",
       "1  tt0012494   Fantasy\n",
       "2  tt0012494     Drama\n",
       "3  tt0038733   Fantasy\n",
       "4  tt0038733     Drama"
      ]
     },
     "execution_count": 65,
     "metadata": {},
     "output_type": "execute_result"
    }
   ],
   "source": [
    "genre.head()"
   ]
  },
  {
   "cell_type": "markdown",
   "id": "cd33db78",
   "metadata": {},
   "source": [
    "#### Q5. Find the unique list of the genres present in the data set?"
   ]
  },
  {
   "cell_type": "code",
   "execution_count": 63,
   "id": "b1ddcb22",
   "metadata": {},
   "outputs": [
    {
     "data": {
      "text/html": [
       "<div>\n",
       "<style scoped>\n",
       "    .dataframe tbody tr th:only-of-type {\n",
       "        vertical-align: middle;\n",
       "    }\n",
       "\n",
       "    .dataframe tbody tr th {\n",
       "        vertical-align: top;\n",
       "    }\n",
       "\n",
       "    .dataframe thead th {\n",
       "        text-align: right;\n",
       "    }\n",
       "</style>\n",
       "<table border=\"1\" class=\"dataframe\">\n",
       "  <thead>\n",
       "    <tr style=\"text-align: right;\">\n",
       "      <th></th>\n",
       "      <th>Unique_Genre</th>\n",
       "    </tr>\n",
       "  </thead>\n",
       "  <tbody>\n",
       "    <tr>\n",
       "      <th>0</th>\n",
       "      <td>Thriller</td>\n",
       "    </tr>\n",
       "    <tr>\n",
       "      <th>1</th>\n",
       "      <td>Fantasy</td>\n",
       "    </tr>\n",
       "    <tr>\n",
       "      <th>2</th>\n",
       "      <td>Drama</td>\n",
       "    </tr>\n",
       "    <tr>\n",
       "      <th>3</th>\n",
       "      <td>Comedy</td>\n",
       "    </tr>\n",
       "    <tr>\n",
       "      <th>4</th>\n",
       "      <td>Horror</td>\n",
       "    </tr>\n",
       "    <tr>\n",
       "      <th>5</th>\n",
       "      <td>Romance</td>\n",
       "    </tr>\n",
       "    <tr>\n",
       "      <th>6</th>\n",
       "      <td>Family</td>\n",
       "    </tr>\n",
       "    <tr>\n",
       "      <th>7</th>\n",
       "      <td>Adventure</td>\n",
       "    </tr>\n",
       "    <tr>\n",
       "      <th>8</th>\n",
       "      <td>Sci-Fi</td>\n",
       "    </tr>\n",
       "    <tr>\n",
       "      <th>9</th>\n",
       "      <td>Action</td>\n",
       "    </tr>\n",
       "    <tr>\n",
       "      <th>10</th>\n",
       "      <td>Mystery</td>\n",
       "    </tr>\n",
       "    <tr>\n",
       "      <th>11</th>\n",
       "      <td>Crime</td>\n",
       "    </tr>\n",
       "    <tr>\n",
       "      <th>12</th>\n",
       "      <td>Others</td>\n",
       "    </tr>\n",
       "  </tbody>\n",
       "</table>\n",
       "</div>"
      ],
      "text/plain": [
       "   Unique_Genre\n",
       "0      Thriller\n",
       "1       Fantasy\n",
       "2         Drama\n",
       "3        Comedy\n",
       "4        Horror\n",
       "5       Romance\n",
       "6        Family\n",
       "7     Adventure\n",
       "8        Sci-Fi\n",
       "9        Action\n",
       "10      Mystery\n",
       "11        Crime\n",
       "12       Others"
      ]
     },
     "execution_count": 63,
     "metadata": {},
     "output_type": "execute_result"
    }
   ],
   "source": [
    "cursor.execute('''SELECT DISTINCT genre\n",
    "                  FROM genre\n",
    "                  ''')\n",
    "rows = cursor.fetchall()\n",
    "\n",
    "# create a Pandas DataFrame from the fetched data\n",
    "df = pd.DataFrame(rows, columns=['Unique_Genre'])\n",
    "df.head(20)"
   ]
  },
  {
   "cell_type": "markdown",
   "id": "8ea968d5",
   "metadata": {},
   "source": [
    "#### Q6.Which genre had the highest number of movies produced overall?"
   ]
  },
  {
   "cell_type": "code",
   "execution_count": 91,
   "id": "b08728a9",
   "metadata": {},
   "outputs": [
    {
     "data": {
      "image/png": "[encoded data removed]",
      "text/plain": [
       "<Figure size 640x480 with 1 Axes>"
      ]
     },
     "metadata": {},
     "output_type": "display_data"
    }
   ],
   "source": [
    "cursor.execute('''SELECT DISTINCT genre.genre as Genre,COUNT(movies.title) as Number_of_movies\n",
    "                  FROM genre\n",
    "                  INNER JOIN movies ON genre.movie_id = movies.id\n",
    "                  GROUP BY Genre\n",
    "                  ORDER BY Number_of_movies\n",
    "                  DESC''')\n",
    "rows = cursor.fetchall()\n",
    "\n",
    "# create a Pandas DataFrame from the fetched data\n",
    "df = pd.DataFrame(rows, columns=['Genre','Number_of_Movies'])\n",
    "\n",
    "ax = sns.barplot(x=df['Genre'],y =df['Number_of_Movies'],data=df,palette ='viridis',saturation=0.95)\n",
    "\n",
    "\n",
    "# loop the barplot\n",
    "for p in ax.patches:\n",
    "    height = p.get_height()\n",
    "    width = p.get_width()\n",
    "    x,y = p.get_xy()\n",
    "    \n",
    "    # Add the count label on top of each bar\n",
    "    ax.text(x+width /2, y+height,height, ha ='left',rotation =45)\n",
    "\n",
    "# Show the plot\n",
    "plt.xticks(rotation=45)\n",
    "plt.show()\n",
    "# df.head(20)"
   ]
  },
  {
   "cell_type": "markdown",
   "id": "854f3e35",
   "metadata": {},
   "source": [
    "#### Q7.What is the average duration of movies in each genre? "
   ]
  },
  {
   "cell_type": "code",
   "execution_count": 108,
   "id": "be08c8ea",
   "metadata": {},
   "outputs": [
    {
     "data": {
      "image/png": "[encoded data removed]",
      "text/plain": [
       "<Figure size 640x480 with 1 Axes>"
      ]
     },
     "metadata": {},
     "output_type": "display_data"
    }
   ],
   "source": [
    "cursor.execute('''SELECT DISTINCT genre.genre as Genre,ROUND(AVG(movies.duration),2) as Average_duration\n",
    "                  FROM genre\n",
    "                  INNER JOIN movies ON genre.movie_id = movies.id\n",
    "                  GROUP BY Genre\n",
    "                  ORDER BY Average_duration\n",
    "                  DESC''')\n",
    "rows = cursor.fetchall()\n",
    "\n",
    "# create a Pandas DataFrame from the fetched data\n",
    "df = pd.DataFrame(rows, columns=['Genre','Avg_Movies_duration'])\n",
    "\n",
    "ax = sns.barplot(x=df['Genre'],y =df['Avg_Movies_duration'],data=df,palette ='viridis',saturation=0.95)\n",
    "\n",
    "\n",
    "# loop the barplot\n",
    "for p in ax.patches:\n",
    "    height = p.get_height()\n",
    "    width = p.get_width()\n",
    "    x,y = p.get_xy()\n",
    "    \n",
    "    # Add the count label on top of each bar\n",
    "    ax.text(x+width /2, y+height,height, ha ='left',rotation =45)\n",
    "\n",
    "# Show the plot\n",
    "plt.xticks(rotation=45)\n",
    "plt.show()\n",
    "# df.head(20)"
   ]
  },
  {
   "cell_type": "markdown",
   "id": "1b82e02f",
   "metadata": {},
   "source": [
    "#### Q8.What is the rank of the ‘thriller’ genre of movies among all the genres in terms of number of movies produced?"
   ]
  },
  {
   "cell_type": "code",
   "execution_count": 123,
   "id": "3b0503c6",
   "metadata": {},
   "outputs": [
    {
     "data": {
      "text/html": [
       "<div>\n",
       "<style scoped>\n",
       "    .dataframe tbody tr th:only-of-type {\n",
       "        vertical-align: middle;\n",
       "    }\n",
       "\n",
       "    .dataframe tbody tr th {\n",
       "        vertical-align: top;\n",
       "    }\n",
       "\n",
       "    .dataframe thead th {\n",
       "        text-align: right;\n",
       "    }\n",
       "</style>\n",
       "<table border=\"1\" class=\"dataframe\">\n",
       "  <thead>\n",
       "    <tr style=\"text-align: right;\">\n",
       "      <th></th>\n",
       "      <th>Genre</th>\n",
       "      <th>Number_of_Movies</th>\n",
       "      <th>Rank</th>\n",
       "    </tr>\n",
       "  </thead>\n",
       "  <tbody>\n",
       "    <tr>\n",
       "      <th>0</th>\n",
       "      <td>Drama</td>\n",
       "      <td>4285</td>\n",
       "      <td>1</td>\n",
       "    </tr>\n",
       "    <tr>\n",
       "      <th>1</th>\n",
       "      <td>Comedy</td>\n",
       "      <td>2412</td>\n",
       "      <td>2</td>\n",
       "    </tr>\n",
       "    <tr>\n",
       "      <th>2</th>\n",
       "      <td>Thriller</td>\n",
       "      <td>1484</td>\n",
       "      <td>3</td>\n",
       "    </tr>\n",
       "    <tr>\n",
       "      <th>3</th>\n",
       "      <td>Action</td>\n",
       "      <td>1289</td>\n",
       "      <td>4</td>\n",
       "    </tr>\n",
       "    <tr>\n",
       "      <th>4</th>\n",
       "      <td>Horror</td>\n",
       "      <td>1208</td>\n",
       "      <td>5</td>\n",
       "    </tr>\n",
       "    <tr>\n",
       "      <th>5</th>\n",
       "      <td>Romance</td>\n",
       "      <td>906</td>\n",
       "      <td>6</td>\n",
       "    </tr>\n",
       "    <tr>\n",
       "      <th>6</th>\n",
       "      <td>Crime</td>\n",
       "      <td>813</td>\n",
       "      <td>7</td>\n",
       "    </tr>\n",
       "    <tr>\n",
       "      <th>7</th>\n",
       "      <td>Adventure</td>\n",
       "      <td>591</td>\n",
       "      <td>8</td>\n",
       "    </tr>\n",
       "    <tr>\n",
       "      <th>8</th>\n",
       "      <td>Mystery</td>\n",
       "      <td>555</td>\n",
       "      <td>9</td>\n",
       "    </tr>\n",
       "    <tr>\n",
       "      <th>9</th>\n",
       "      <td>Sci-Fi</td>\n",
       "      <td>375</td>\n",
       "      <td>10</td>\n",
       "    </tr>\n",
       "    <tr>\n",
       "      <th>10</th>\n",
       "      <td>Fantasy</td>\n",
       "      <td>342</td>\n",
       "      <td>11</td>\n",
       "    </tr>\n",
       "    <tr>\n",
       "      <th>11</th>\n",
       "      <td>Family</td>\n",
       "      <td>302</td>\n",
       "      <td>12</td>\n",
       "    </tr>\n",
       "    <tr>\n",
       "      <th>12</th>\n",
       "      <td>Others</td>\n",
       "      <td>100</td>\n",
       "      <td>13</td>\n",
       "    </tr>\n",
       "  </tbody>\n",
       "</table>\n",
       "</div>"
      ],
      "text/plain": [
       "        Genre  Number_of_Movies  Rank\n",
       "0       Drama              4285     1\n",
       "1      Comedy              2412     2\n",
       "2    Thriller              1484     3\n",
       "3      Action              1289     4\n",
       "4      Horror              1208     5\n",
       "5     Romance               906     6\n",
       "6       Crime               813     7\n",
       "7   Adventure               591     8\n",
       "8     Mystery               555     9\n",
       "9      Sci-Fi               375    10\n",
       "10    Fantasy               342    11\n",
       "11     Family               302    12\n",
       "12     Others               100    13"
      ]
     },
     "execution_count": 123,
     "metadata": {},
     "output_type": "execute_result"
    }
   ],
   "source": [
    "cursor.execute('''SELECT DISTINCT genre.genre as Genre, COUNT(movies.title),\n",
    "                  RANK() OVER (ORDER BY COUNT(movies.title) DESC) AS rank\n",
    "                  FROM genre\n",
    "                  INNER JOIN movies ON genre.movie_id = movies.id\n",
    "                  GROUP BY Genre\n",
    "                  ''')\n",
    "rows = cursor.fetchall()\n",
    "\n",
    "# # create a Pandas DataFrame from the fetched data\n",
    "df = pd.DataFrame(rows, columns=['Genre','Number_of_Movies','Rank'])\n",
    "\n",
    "df.head(20)"
   ]
  },
  {
   "cell_type": "markdown",
   "id": "d433b844",
   "metadata": {},
   "source": [
    "#### Q10.  Find the minimum and maximum values in  each column of the ratings table except the movie_id column?"
   ]
  },
  {
   "cell_type": "code",
   "execution_count": 122,
   "id": "f4a527ff",
   "metadata": {},
   "outputs": [
    {
     "data": {
      "text/html": [
       "<div>\n",
       "<style scoped>\n",
       "    .dataframe tbody tr th:only-of-type {\n",
       "        vertical-align: middle;\n",
       "    }\n",
       "\n",
       "    .dataframe tbody tr th {\n",
       "        vertical-align: top;\n",
       "    }\n",
       "\n",
       "    .dataframe thead th {\n",
       "        text-align: right;\n",
       "    }\n",
       "</style>\n",
       "<table border=\"1\" class=\"dataframe\">\n",
       "  <thead>\n",
       "    <tr style=\"text-align: right;\">\n",
       "      <th></th>\n",
       "      <th>movie_id</th>\n",
       "      <th>avg_rating</th>\n",
       "      <th>total_votes</th>\n",
       "      <th>median_rating</th>\n",
       "    </tr>\n",
       "  </thead>\n",
       "  <tbody>\n",
       "    <tr>\n",
       "      <th>0</th>\n",
       "      <td>tt0012494</td>\n",
       "      <td>7.7</td>\n",
       "      <td>4695</td>\n",
       "      <td>8.0</td>\n",
       "    </tr>\n",
       "    <tr>\n",
       "      <th>1</th>\n",
       "      <td>tt0038733</td>\n",
       "      <td>8.1</td>\n",
       "      <td>17693</td>\n",
       "      <td>8.0</td>\n",
       "    </tr>\n",
       "    <tr>\n",
       "      <th>2</th>\n",
       "      <td>tt0060908</td>\n",
       "      <td>7.5</td>\n",
       "      <td>3392</td>\n",
       "      <td>8.0</td>\n",
       "    </tr>\n",
       "    <tr>\n",
       "      <th>3</th>\n",
       "      <td>tt0069049</td>\n",
       "      <td>6.9</td>\n",
       "      <td>5014</td>\n",
       "      <td>7.0</td>\n",
       "    </tr>\n",
       "    <tr>\n",
       "      <th>4</th>\n",
       "      <td>tt0071145</td>\n",
       "      <td>8.2</td>\n",
       "      <td>789</td>\n",
       "      <td>8.0</td>\n",
       "    </tr>\n",
       "  </tbody>\n",
       "</table>\n",
       "</div>"
      ],
      "text/plain": [
       "    movie_id  avg_rating  total_votes  median_rating\n",
       "0  tt0012494         7.7         4695            8.0\n",
       "1  tt0038733         8.1        17693            8.0\n",
       "2  tt0060908         7.5         3392            8.0\n",
       "3  tt0069049         6.9         5014            7.0\n",
       "4  tt0071145         8.2          789            8.0"
      ]
     },
     "execution_count": 122,
     "metadata": {},
     "output_type": "execute_result"
    }
   ],
   "source": [
    "ratings.head()\n",
    "# movies: 25735\n",
    "# genre: 7997\n",
    "# director_mapping: 14662\n",
    "# role_mapping: 3867\n",
    "# names: 15615\n",
    "# ratings: 7997"
   ]
  },
  {
   "cell_type": "code",
   "execution_count": 125,
   "id": "206ddbb0",
   "metadata": {},
   "outputs": [
    {
     "data": {
      "text/html": [
       "<div>\n",
       "<style scoped>\n",
       "    .dataframe tbody tr th:only-of-type {\n",
       "        vertical-align: middle;\n",
       "    }\n",
       "\n",
       "    .dataframe tbody tr th {\n",
       "        vertical-align: top;\n",
       "    }\n",
       "\n",
       "    .dataframe thead th {\n",
       "        text-align: right;\n",
       "    }\n",
       "</style>\n",
       "<table border=\"1\" class=\"dataframe\">\n",
       "  <thead>\n",
       "    <tr style=\"text-align: right;\">\n",
       "      <th></th>\n",
       "      <th>Min_avg_rating</th>\n",
       "      <th>Max_avg_rating</th>\n",
       "      <th>Min_total_votes</th>\n",
       "      <th>Max_total_votes</th>\n",
       "      <th>Min_median_rating</th>\n",
       "      <th>Max_median_rating</th>\n",
       "    </tr>\n",
       "  </thead>\n",
       "  <tbody>\n",
       "    <tr>\n",
       "      <th>0</th>\n",
       "      <td>1.0</td>\n",
       "      <td>10.0</td>\n",
       "      <td>100</td>\n",
       "      <td>725138</td>\n",
       "      <td>1.0</td>\n",
       "      <td>10.0</td>\n",
       "    </tr>\n",
       "  </tbody>\n",
       "</table>\n",
       "</div>"
      ],
      "text/plain": [
       "   Min_avg_rating  Max_avg_rating  Min_total_votes  Max_total_votes  \\\n",
       "0             1.0            10.0              100           725138   \n",
       "\n",
       "   Min_median_rating  Max_median_rating  \n",
       "0                1.0               10.0  "
      ]
     },
     "execution_count": 125,
     "metadata": {},
     "output_type": "execute_result"
    }
   ],
   "source": [
    "cursor.execute('''SELECT DISTINCT MIN(avg_rating),MAX(avg_rating),MIN(total_votes),MAX(total_votes),\n",
    "                  MIN(median_rating),MAX(median_rating)\n",
    "                  FROM ratings\n",
    "                  ''')\n",
    "rows = cursor.fetchall()\n",
    "\n",
    "# # create a Pandas DataFrame from the fetched data\n",
    "df = pd.DataFrame(rows, columns=['Min_avg_rating','Max_avg_rating','Min_total_votes','Max_total_votes','Min_median_rating','Max_median_rating'])\n",
    "\n",
    "df.head(20)"
   ]
  },
  {
   "cell_type": "markdown",
   "id": "69e8a40a",
   "metadata": {},
   "source": [
    "#### Q10. Which are the top 10 movies based on average rating?"
   ]
  },
  {
   "cell_type": "code",
   "execution_count": 139,
   "id": "2b1b52f2",
   "metadata": {},
   "outputs": [
    {
     "data": {
      "text/html": [
       "<div>\n",
       "<style scoped>\n",
       "    .dataframe tbody tr th:only-of-type {\n",
       "        vertical-align: middle;\n",
       "    }\n",
       "\n",
       "    .dataframe tbody tr th {\n",
       "        vertical-align: top;\n",
       "    }\n",
       "\n",
       "    .dataframe thead th {\n",
       "        text-align: right;\n",
       "    }\n",
       "</style>\n",
       "<table border=\"1\" class=\"dataframe\">\n",
       "  <thead>\n",
       "    <tr style=\"text-align: right;\">\n",
       "      <th></th>\n",
       "      <th>Movies</th>\n",
       "      <th>Avg_Ratings</th>\n",
       "    </tr>\n",
       "  </thead>\n",
       "  <tbody>\n",
       "    <tr>\n",
       "      <th>0</th>\n",
       "      <td>Kirket</td>\n",
       "      <td>10.0</td>\n",
       "    </tr>\n",
       "    <tr>\n",
       "      <th>1</th>\n",
       "      <td>Gini Helida Kathe</td>\n",
       "      <td>9.8</td>\n",
       "    </tr>\n",
       "    <tr>\n",
       "      <th>2</th>\n",
       "      <td>Runam</td>\n",
       "      <td>9.7</td>\n",
       "    </tr>\n",
       "    <tr>\n",
       "      <th>3</th>\n",
       "      <td>Fan</td>\n",
       "      <td>9.6</td>\n",
       "    </tr>\n",
       "    <tr>\n",
       "      <th>4</th>\n",
       "      <td>Safe</td>\n",
       "      <td>9.5</td>\n",
       "    </tr>\n",
       "    <tr>\n",
       "      <th>5</th>\n",
       "      <td>Our Little Haven</td>\n",
       "      <td>9.4</td>\n",
       "    </tr>\n",
       "    <tr>\n",
       "      <th>6</th>\n",
       "      <td>Wheels</td>\n",
       "      <td>9.3</td>\n",
       "    </tr>\n",
       "    <tr>\n",
       "      <th>7</th>\n",
       "      <td>Ekvtime: Man of God</td>\n",
       "      <td>9.2</td>\n",
       "    </tr>\n",
       "    <tr>\n",
       "      <th>8</th>\n",
       "      <td>The Colour of Darkness</td>\n",
       "      <td>9.1</td>\n",
       "    </tr>\n",
       "    <tr>\n",
       "      <th>9</th>\n",
       "      <td>Oskars Amerika</td>\n",
       "      <td>9.0</td>\n",
       "    </tr>\n",
       "  </tbody>\n",
       "</table>\n",
       "</div>"
      ],
      "text/plain": [
       "                   Movies  Avg_Ratings\n",
       "0                  Kirket         10.0\n",
       "1       Gini Helida Kathe          9.8\n",
       "2                   Runam          9.7\n",
       "3                     Fan          9.6\n",
       "4                    Safe          9.5\n",
       "5        Our Little Haven          9.4\n",
       "6                  Wheels          9.3\n",
       "7     Ekvtime: Man of God          9.2\n",
       "8  The Colour of Darkness          9.1\n",
       "9          Oskars Amerika          9.0"
      ]
     },
     "execution_count": 139,
     "metadata": {},
     "output_type": "execute_result"
    }
   ],
   "source": [
    "cursor.execute('''SELECT DISTINCT movies.title,\n",
    "                  ratings.avg_rating as Avg_Ratings\n",
    "                  FROM movies\n",
    "                  INNER JOIN ratings ON movies.id = ratings.movie_id\n",
    "                  GROUP BY Avg_Ratings\n",
    "                  ORDER BY Avg_Ratings\n",
    "                  DESC\n",
    "                  LIMIT 10\n",
    "                  ''')\n",
    "rows = cursor.fetchall()\n",
    "\n",
    "# # create a Pandas DataFrame from the fetched data\n",
    "df = pd.DataFrame(rows, columns=['Movies','Avg_Ratings'])\n",
    "\n",
    "df.head(20)"
   ]
  },
  {
   "cell_type": "code",
   "execution_count": null,
   "id": "0647cb4b",
   "metadata": {},
   "outputs": [],
   "source": []
  }
 ],
 "metadata": {
  "kernelspec": {
   "display_name": "Python 3 (ipykernel)",
   "language": "python",
   "name": "python3"
  },
  "language_info": {
   "codemirror_mode": {
    "name": "ipython",
    "version": 3
   },
   "file_extension": ".py",
   "mimetype": "text/x-python",
   "name": "python",
   "nbconvert_exporter": "python",
   "pygments_lexer": "ipython3",
   "version": "3.9.13"
  }
 },
 "nbformat": 4,
 "nbformat_minor": 5
}
